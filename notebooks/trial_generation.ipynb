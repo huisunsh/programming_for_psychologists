{
 "cells": [
  {
   "cell_type": "markdown",
   "metadata": {},
   "source": [
    "# Some ins and outs of trial generation"
   ]
  },
  {
   "cell_type": "markdown",
   "metadata": {},
   "source": [
    "## Control over proportions\n",
    "Very frequently we want something to happen in an experiment with a certain probability across a range of trials. For example, we might want *congruent* and *incongruent* trials to occur equally often. Or we might want to have catch trials happen with a 10% probability. How do we do this?\n",
    "\n",
    "### Leaving things to chance\n",
    "\n",
    "An initial idea might be to use a `random.choice()` function. For example, in this case, we select *congruent* with a 50% probability:"
   ]
  },
  {
   "cell_type": "code",
   "execution_count": 25,
   "metadata": {},
   "outputs": [],
   "source": [
    "import random\n",
    "random.seed(6)\n",
    "numTrials = 100\n",
    "conditions=[]\n",
    "for i in range(numTrials):\n",
    "    conditions.append(random.choice(['congruent','incongruent']))"
   ]
  },
  {
   "cell_type": "markdown",
   "metadata": {},
   "source": [
    "Let's check how frequent congruent is in conditions"
   ]
  },
  {
   "cell_type": "code",
   "execution_count": 26,
   "metadata": {},
   "outputs": [
    {
     "name": "stdout",
     "output_type": "stream",
     "text": [
      "49\n"
     ]
    }
   ],
   "source": [
    "print conditions.count('congruent')"
   ]
  },
  {
   "cell_type": "markdown",
   "metadata": {},
   "source": [
    "Pretty close to 50! Not bad. But now let's look at the distributions of a hypothetical 40 subjects, each of whom is assigned congruent/incongruent trials in the manner above."
   ]
  },
  {
   "cell_type": "code",
   "execution_count": 47,
   "metadata": {},
   "outputs": [
    {
     "name": "stdout",
     "output_type": "stream",
     "text": [
      "49.8 40 60\n"
     ]
    },
    {
     "data": {
      "image/png": "[encoded data removed]",
      "text/plain": [
       "<matplotlib.figure.Figure at 0x11a5a67d0>"
      ]
     },
     "metadata": {},
     "output_type": "display_data"
    }
   ],
   "source": [
    "import seaborn as sns\n",
    "import numpy as np\n",
    "\n",
    "random.seed(6)\n",
    "numSubj = 40\n",
    "trialsPerSubject = 100\n",
    "conditions=[]\n",
    "for curSubj in range(numSubj):\n",
    "    conditions.append([])\n",
    "    for i in range(numTrials):\n",
    "        conditions[curSubj].append(random.choice(['congruent','incongruent']))\n",
    "\n",
    "frequencies = [thisSubj.count('congruent') for thisSubj in conditions]\n",
    "sns.distplot(frequencies, kde=False); \n",
    "print np.mean(frequencies), min(frequencies), max(frequencies)"
   ]
  },
  {
   "cell_type": "markdown",
   "metadata": {},
   "source": [
    "Ok, this isn't looking so good. The mean is close to 50, but some subjects are only getting 40% and others 60%. The situation gets worse when we have conditions that occur relatively rarely. Let's have a look at a trial sequence in which we would like to have 10% catch trials."
   ]
  },
  {
   "cell_type": "code",
   "execution_count": 104,
   "metadata": {},
   "outputs": [
    {
     "name": "stdout",
     "output_type": "stream",
     "text": [
      "[12, 8, 6, 7, 6, 3, 8, 9, 15, 11, 9, 9, 11, 12, 14, 14, 10, 8, 5, 13, 7, 9, 12, 4, 6, 8, 11, 9, 17, 9, 9, 7, 10, 9, 12, 16, 12, 6, 6, 12]\n",
      "9.525 3 17\n"
     ]
    },
    {
     "data": {
      "image/png": "[encoded data removed]",
      "text/plain": [
       "<matplotlib.figure.Figure at 0x116652a90>"
      ]
     },
     "metadata": {},
     "output_type": "display_data"
    }
   ],
   "source": [
    "import seaborn as sns\n",
    "import numpy as np\n",
    "\n",
    "random.seed(8)\n",
    "numSubj = 40\n",
    "trialsPerSubject = 100\n",
    "isCatchTrial=[]\n",
    "for curSubj in range(numSubj):\n",
    "    isCatchTrial.append([])\n",
    "    for i in range(numTrials):\n",
    "        isCatchTrial[curSubj].append(int(random.random() <= .1))\n",
    "\n",
    "frequencies = [np.sum(thisSubj) for thisSubj in isCatchTrial]\n",
    "print frequencies\n",
    "sns.distplot(frequencies, kde=False); \n",
    "print np.mean(frequencies), min(frequencies), max(frequencies)"
   ]
  },
  {
   "cell_type": "markdown",
   "metadata": {},
   "source": [
    "Instead of 10%, some subjects are seeing only 3%. Others 17%. This kind of variability can kill otherwise excellent experimental designs."
   ]
  },
  {
   "cell_type": "markdown",
   "metadata": {},
   "source": [
    "<div class=\"alert alert-block alert-info\">\n",
    "What's `random.random()<.1`? `random.random()` returns a float from 0 to 1.0 drawn from a uniform distribution. This means that random.random() can be expected to return a value < .1, 10% of the time.\n",
    "</div>"
   ]
  },
  {
   "cell_type": "markdown",
   "metadata": {},
   "source": [
    "If you're curious just how off-kilter things can get, consider an experiment in which instead of 100 trials, we have 40. With a certain condition happening a desired 10% of the time, when we leave things to chance, you have about a 1.4% of having a subject with *no* trials of this type at all and a ~2.7% of having these trials happen 20% instead of 10% of the time. The desired 10% will occur in only ~20% of the subjects.\n"
   ]
  },
  {
   "cell_type": "code",
   "execution_count": 106,
   "metadata": {},
   "outputs": [
    {
     "name": "stdout",
     "output_type": "stream",
     "text": [
      "0.01505\n",
      "0.20465\n",
      "0.027325\n"
     ]
    }
   ],
   "source": [
    "import seaborn as sns\n",
    "import numpy as np\n",
    "\n",
    "numSubj = 40000\n",
    "trialsPerSubject = 40\n",
    "isCatchTrial=[]\n",
    "for curSubj in range(numSubj):\n",
    "    isCatchTrial.append([])\n",
    "    for i in range(trialsPerSubject):\n",
    "        isCatchTrial[curSubj].append(int(random.random() <= .1))\n",
    "\n",
    "print np.mean([np.sum(thisSubj)==0 for thisSubj in isCatchTrial])\n",
    "print np.mean([np.sum(thisSubj)==4 for thisSubj in isCatchTrial])\n",
    "print np.mean([np.sum(thisSubj)==8 for thisSubj in isCatchTrial])"
   ]
  },
  {
   "cell_type": "markdown",
   "metadata": {},
   "source": [
    "### Exerting control over chance\n",
    "The solution is to *not* leave things to chance, but specify precisely, the proportion you want. The easiest way of doing that is to create all your conditions, with prespecified proportions. Want 100 trials with a 50/50 split of congruent/incongruent? Easy!"
   ]
  },
  {
   "cell_type": "code",
   "execution_count": 80,
   "metadata": {},
   "outputs": [
    {
     "data": {
      "text/plain": [
       "50"
      ]
     },
     "execution_count": 80,
     "metadata": {},
     "output_type": "execute_result"
    }
   ],
   "source": [
    "numTrials=100\n",
    "conditions = ['congruent','incongruent']*numTrials\n",
    "conditions = conditions[0:numTrials]\n",
    "conditions.count('congruent')"
   ]
  },
  {
   "cell_type": "markdown",
   "metadata": {},
   "source": [
    "Then, to get a random order, simply `random.shuffle` it."
   ]
  },
  {
   "cell_type": "markdown",
   "metadata": {},
   "source": [
    "Want to get a 45/45/10 split between three conditions? Let's try it:"
   ]
  },
  {
   "cell_type": "code",
   "execution_count": 79,
   "metadata": {},
   "outputs": [
    {
     "name": "stdout",
     "output_type": "stream",
     "text": [
      "45 45 10\n"
     ]
    }
   ],
   "source": [
    "numTrials = 100\n",
    "conditions = ['congruent']*int(numTrials*.45) + \\\n",
    "    ['incongruent']*int(numTrials*.45) + \\\n",
    "    ['catch']*int(numTrials*.1)\n",
    "print conditions.count('congruent'), \\ \n",
    "    conditions.count('incongruent'), \\\n",
    "    conditions.count('catch') \n"
   ]
  },
  {
   "cell_type": "markdown",
   "metadata": {},
   "source": [
    " <div class=\"alert alert-block alert-info\">\n",
    "What's that '\\' in the code-block above? It's a way to break up a long line for ease of reading. Python knows that lines that terminate with slashes should continue to the next line \n",
    "</div>"
   ]
  },
  {
   "cell_type": "markdown",
   "metadata": {},
   "source": [
    "### What about when things don't divide evenly?"
   ]
  },
  {
   "cell_type": "markdown",
   "metadata": {},
   "source": [
    "It's nice that .45*100 = 45 - an integer, but what if we only have 42 trials to work with and we need something to happen 10% of the time?"
   ]
  },
  {
   "cell_type": "code",
   "execution_count": null,
   "metadata": {},
   "outputs": [],
   "source": [
    "Stay tuned"
   ]
  },
  {
   "cell_type": "markdown",
   "metadata": {},
   "source": [
    "## Control over randomization\n",
    "Stay tuned"
   ]
  },
  {
   "cell_type": "markdown",
   "metadata": {},
   "source": [
    "## Control over combinatorial explostions\n",
    "Stay tuned"
   ]
  },
  {
   "cell_type": "code",
   "execution_count": null,
   "metadata": {},
   "outputs": [],
   "source": []
  }
 ],
 "metadata": {
  "kernelspec": {
   "display_name": "Python 2",
   "language": "python",
   "name": "python2"
  },
  "language_info": {
   "codemirror_mode": {
    "name": "ipython",
    "version": 2
   },
   "file_extension": ".py",
   "mimetype": "text/x-python",
   "name": "python",
   "nbconvert_exporter": "python",
   "pygments_lexer": "ipython2",
   "version": "2.7.13"
  },
  "toc": {
   "nav_menu": {},
   "number_sections": true,
   "sideBar": true,
   "skip_h1_title": false,
   "toc_cell": false,
   "toc_position": {
    "height": "526px",
    "left": "0px",
    "right": "940px",
    "top": "111px",
    "width": "340px"
   },
   "toc_section_display": "block",
   "toc_window_display": true
  }
 },
 "nbformat": 4,
 "nbformat_minor": 2
}
