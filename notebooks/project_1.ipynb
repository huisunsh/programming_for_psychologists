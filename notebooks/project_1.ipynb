{
 "cells": [
  {
   "cell_type": "markdown",
   "metadata": {},
   "source": [
    "# Project 1"
   ]
  },
  {
   "cell_type": "markdown",
   "metadata": {},
   "source": [
    "## Option 1 - Visual Recognition Memory and Verbal Lures\n",
    "The first option is to implement a visual recognition memory experiment. As with most of such studies, the experiment will have two parts: study and test. In the study part, participants see a sequence of images. To maintain attention, they perform a 1-back task, pressing the spacebar anytime they detect an image repeating back-to-back. During the *test* session which will immediately follow the study, participants see each image and perform an old/new recognition task.\n",
    "\n",
    "This experiment will test the hypothesis that although both study and test materials are *images*, participants will show significantly higher false-alarms on rhyme (e.g., rake/cake, bear/pear)  and homonym trials, e.g., (bat [the animal], bat [baseball bat], flour/flower).\n",
    "\n",
    "The precise stimuli will be available shortly. In the meantime, here is a schematic so you can start thinking about how you should design the trial list."
   ]
  },
  {
   "cell_type": "markdown",
   "metadata": {},
   "source": [
    "![Proj1-a-Study](images/proj1_memory_study.png \"Proj1-1 Study\")"
   ]
  },
  {
   "cell_type": "markdown",
   "metadata": {},
   "source": [
    "And here's the schematic for the test phase:"
   ]
  },
  {
   "cell_type": "markdown",
   "metadata": {},
   "source": [
    "![Proj1-a-Test](images/proj1_memory_test.png \"Proj1-1 Test\")"
   ]
  },
  {
   "cell_type": "markdown",
   "metadata": {},
   "source": [
    "### Things to keep in mind\n",
    "\n",
    "* The repeated images are filler trials and are not included in the test.\n",
    "* Half the test trials should be 'new' (correct response: new) and half 'old'.\n",
    "<div class=\"alert alert-block alert-info\">\n",
    "Following the usual terminology, correctly responding to an old item is a *hit*; correctly responding to a new item is a *correct rejection*. Incorrectly responding to an old item is a *miss*. Incorrectly responding to a new item is a *false alarm*\n",
    "</div>\n",
    "* There are four kinds of new trials (and so four kinds of false alarms a participant could make): Completely new images, different exemplars (e.g., a different pear), rhymes, and homonyms.  You will be provided with all of these stimuli.\n"
   ]
  },
  {
   "cell_type": "markdown",
   "metadata": {},
   "source": [
    "### Output file details\n",
    "\n",
    "For each participant, write two output files: one for study; one for test.\n",
    "\n",
    "For the study session, the output should include:\n",
    "* Subject code\n",
    "* Experiment code\n",
    "* Random seed\n",
    "* Any counterbalancing variable(s)\n",
    "* Trial number\n",
    "* Image category (e.g., bear) \n",
    "* Image filename (e.g., bear4.jpg)\n",
    "* Repeat or not\n",
    "* Response (if any)\n",
    "* Correct (1) or not (0) \n",
    "* Reaction time in milliseconds or *NA* if no response is received \n",
    "\n",
    "For the test session, the output should include:\n",
    "* Subject code\n",
    "* Experiment code\n",
    "* Random seed\n",
    "* Any counterbalancing variable(s)\n",
    "* Trial number\n",
    "* Image category (e.g., bear) \n",
    "* Image filename (e.g., bear4.jpg)\n",
    "* *Old* or *new* trial type\n",
    "* What type of new trial (unrelated; exemplar; rhyme; homonym)\n",
    "* Response (1-5)\n",
    "* Correct (1) or not (0). Correct if 1-2 for *old* or 3-4 for *new*. \n",
    "* Reaction time in milliseconds\n"
   ]
  },
  {
   "cell_type": "markdown",
   "metadata": {},
   "source": [
    "## Option 2: Reinforcement learning and meaningfulness\n",
    "Quick, what's this?\n",
    "![Droodle Elephants](images/droodle_elephants.png \"Droodle Elephants\")"
   ]
  },
  {
   "cell_type": "markdown",
   "metadata": {},
   "source": [
    "...why that's four elephants smelling an orange of course!\n",
    "\n",
    "What is the consequence of ascribing meaning to an underdetermined image? In this experiment, we will examine whether ascribing meaning helps people associate images with arbitrary responses.\n",
    "\n"
   ]
  },
  {
   "cell_type": "markdown",
   "metadata": {},
   "source": [
    "![Proj1-a-Study](images/proj1_reinforcement_learning.png \"Reinforcement Learning Schematic\")\n",
    "\n"
   ]
  },
  {
   "cell_type": "markdown",
   "metadata": {},
   "source": [
    "The experiment consists of several blocks. Each block begins with a display of all the stimuli (3 in the schematic above). Each of these is assigned to one of three keys (e.g., 'z', 'x', 'c') *with* replacement such that two images may be assigned to the same key. Participants then see these images and try to learn which key each image goes with, receiving accuracy feedback after every trial. Once the termination condition shown above is met, a new block begins which contains several novel items. \n",
    "\n",
    "The only difference between the meaningful and meaningless conditions is that in the meaningful condition, the screen that introduces the stimuli contains a verbal description of each one."
   ]
  },
  {
   "cell_type": "markdown",
   "metadata": {},
   "source": [
    "### Output file details\n",
    "For the test session, the output should include:\n",
    "* Subject code\n",
    "* Experiment code\n",
    "* Condition (meaningful/meaningless)\n",
    "* Random seed\n",
    "* Any counterbalancing variable(s)\n",
    "* Block number\n",
    "* Trial number\n",
    "* Image name/category (e.g., bear) \n",
    "* Image filename (e.g., bear_climbing.jpg)\n",
    "* Response assigned to the image (1-2-3)\n",
    "* Response received (1-2-3)\n",
    "* Maximum number of images assigned to a single key in current block\n",
    "* Correct (1) or not (0).\n",
    "* Reaction time in milliseconds (measured from image onset)"
   ]
  },
  {
   "cell_type": "code",
   "execution_count": null,
   "metadata": {},
   "outputs": [],
   "source": []
  }
 ],
 "metadata": {
  "kernelspec": {
   "display_name": "Python 2",
   "language": "python",
   "name": "python2"
  },
  "language_info": {
   "codemirror_mode": {
    "name": "ipython",
    "version": 2
   },
   "file_extension": ".py",
   "mimetype": "text/x-python",
   "name": "python",
   "nbconvert_exporter": "python",
   "pygments_lexer": "ipython2",
   "version": "2.7.13"
  },
  "toc": {
   "nav_menu": {},
   "number_sections": true,
   "sideBar": true,
   "skip_h1_title": false,
   "toc_cell": false,
   "toc_position": {
    "height": "526px",
    "left": "0px",
    "right": "1037px",
    "top": "111px",
    "width": "243px"
   },
   "toc_section_display": "block",
   "toc_window_display": true
  }
 },
 "nbformat": 4,
 "nbformat_minor": 2
}
