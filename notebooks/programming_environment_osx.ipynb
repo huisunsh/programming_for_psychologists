{
 "cells": [
  {
   "cell_type": "markdown",
   "metadata": {
    "toc": true
   },
   "source": [
    "<h1>Table of Contents<span class=\"tocSkip\"></span></h1>\n",
    "<div class=\"toc\" style=\"margin-top: 1em;\"><ul class=\"toc-item\"><li><span><a href=\"#Programming-Environment:-Mac-OS-X\" data-toc-modified-id=\"Programming-Environment:-Mac-OS-X-1\"><span class=\"toc-item-num\">1&nbsp;&nbsp;</span>Programming Environment: Mac OS X</a></span></li><li><span><a href=\"#Python-on-OS-X\" data-toc-modified-id=\"Python-on-OS-X-2\"><span class=\"toc-item-num\">2&nbsp;&nbsp;</span>Python on OS X</a></span></li><li><span><a href=\"#Installing-the-Anaconda-Distribution-of-Python\" data-toc-modified-id=\"Installing-the-Anaconda-Distribution-of-Python-3\"><span class=\"toc-item-num\">3&nbsp;&nbsp;</span>Installing the Anaconda Distribution of Python</a></span></li><li><span><a href=\"#Installing-pyo\" data-toc-modified-id=\"Installing-pyo-4\"><span class=\"toc-item-num\">4&nbsp;&nbsp;</span>Installing pyo</a></span></li><li><span><a href=\"#Installing-Sublime-Text\" data-toc-modified-id=\"Installing-Sublime-Text-5\"><span class=\"toc-item-num\">5&nbsp;&nbsp;</span>Installing Sublime Text</a></span></li></ul></div>"
   ]
  },
  {
   "cell_type": "markdown",
   "metadata": {},
   "source": [
    "Programming Environment: Mac OS X\n",
    "===\n",
    "We will be using the Anaconda distribution of Python (2.7). This section will guide you on installing Anaconda, PsychoPy, pyo, and Sublime Text."
   ]
  },
  {
   "cell_type": "markdown",
   "metadata": {},
   "source": [
    "Python on OS X\n",
    "===\n",
    "Although Python is installed by default in OSX we will ***not*** be using this default install. Instead we will be using the Anaconda environment which is bundled with lots of packages for scientific computing, allows you to more easily install packages and create virtual environments, and comes with a handy IDE (Integrated Development Environment) called **Spyder**. "
   ]
  },
  {
   "cell_type": "markdown",
   "metadata": {},
   "source": [
    "Installing the Anaconda Distribution of Python\n",
    "===\n",
    "First let's check to see what Python is installed on your system. Open a terminal and type the word `python` at the prompt and press enter. To open a terminal enter 'terminal' in Spotlight (Command-Space). Tip: if you don't already have terminal pinned to your task-bar, now is a good time to do it.\n",
    "\n",
    "When you enter `python`, You'll see output that looks something like this:\n",
    "\n",
    "```\n",
    "$ python\n",
    "Python 2.7.10 (default, Feb  7 2017, 00:08:15)\n",
    "[GCC 4.2.1 Compatible Apple LLVM 8.0.0 (clang-800.0.34)] on darwin\n",
    "Type \"help\", \"copyright\", \"credits\" or \"license\" for more information.\n",
    ">>>\n",
    "```    \n",
    "From this output, we can see that Python is installed, and the currently installed version is Python 2.7.10. Let's exit out of it by entering `exit()` and enter and install the Anaconda environment. To keep things lean we'll install the minimal install of Anaconda called ***Miniconda*** and then add the necessary packages to it.\n",
    "\n",
    "* First, download and Install the **Python 2.7 64 bit** [Miniconda installer](https://conda.io/miniconda.html). If you are asked whether you want the installer to prepend Anaconda to the to the PATH, respond ***yes***.\n",
    "\n",
    "For simplicity, we'll install all the Python packages we'll need into the `root` environment of Anaconda. If you want a separate environment for `PsychoPy`, see [Creating a virtual environment](#virtual_environments). If you don't know what virtual environments are and want to learn, see [here](https://conda.io/docs/user-guide/tasks/manage-environments.html)\n",
    "\n",
    "* Once Miniconda is installed, go to `terminal` and paste in the following commands, press `enter` and wait for everything to install:\n",
    "\n",
    "``` bash\n",
    "conda install pip spyder jupyter\n",
    "pip install numpy scipy matplotlib pandas pyopengl pyglet pillow moviepy lxml openpyxl configobj wx future json_tricks psychopy\n",
    "pip install pyobjc\n",
    "conda install pyaudio wxpython psutil\n",
    "```\n",
    "\n",
    "<div class=\"alert alert-block alert-info\">\n",
    "Note that `pyobjc` takes a little while to install.\n",
    "</div>\n",
    "\n",
    "* Let's test the python install. In terminal, enter `python`, now instead of the Mac-bundled Python, you should see something like:\n",
    "```bash\n",
    "$ python \n",
    "Python 2.7.13 |Anaconda custom (x86_64)| (default, Dec 20 2016, 23:05:08)\n",
    "[GCC 4.2.1 Compatible Apple LLVM 6.0 (clang-600.0.57)] on darwin\n",
    "Type \"help\", \"copyright\", \"credits\" or \"license\" for more information.\n",
    ">>>\n",
    "```\n",
    "\n",
    "* Now let's test the spyder graphical IDE. From the terminal type `spyder`. You should see something like this:\n",
    "![title](images/spyder.png)\n",
    "\n",
    "If that looks a like RStudio, that's because all these IDEs are descended from a common ancestor. \n",
    "\n",
    "* Now let's test that `PsychoPy` installed. At the python prompt type:\n",
    "\n",
    "```python\n",
    ">>> import psychopy\n",
    ">>> psychopy.__version__\n",
    "'1.85.3'\n",
    "```\n",
    "\n",
    "If you see this, all is good.\n"
   ]
  },
  {
   "cell_type": "markdown",
   "metadata": {},
   "source": [
    "Installing pyo\n",
    "===\n",
    "\n",
    "* The last thing we need to do is install the `pyo` package which `PsychoPy` uses to play audio files with low(er) latencies. Unfortunately this is a bit complicated.  (There are easier-to-install alternatives, but in my testing, `pyo` consistently produces more robust performance).\n",
    "\n",
    "Download the .dmg file from [here](http://ajaxsoundstudio.com/downloads/pyo_0.8.0_OSX-universal.dmg). After double-clicking on the downloaded .dmg file, the packager will open. Depending on your Mac settings, you may not be able to open the `pyo_0.8.0_OSX_...` icon by double-clicking on it. If you get an error about the program being from an unidientified installer, right-click on the `pyo_0.8.0_OSX_...` icon and choose *open*. Now, go through the installer hitting next until everything is installed. Note, the current version of pyo is 0.8.8, but 0.8.0 appears to be more stable so the link is for that version. \n",
    "\n",
    "...Unfortunately, the installer installs `pyo` in the wrong place (it creates folders at \"/Library/Frameworks/Python.framework\" even if no Framework build of python is installed) and therefore it doesn't work out of the box for a version of python installed with Anaconda (or other Python distributions).\n",
    "\n",
    "You can still use the .dmg installer, but you have to manually move the pyo files from the Framework to the Anaconda directory. Specifically you have to move the following files:\n",
    "\n",
    "```\n",
    "_pyo.so\n",
    "_pyo64.so\n",
    "pyo.py\n",
    "pyo64.py\n",
    "pyolib (folder)\n",
    "```\n",
    "\n",
    "These files need to be moved **from**  inside `/Library/Frameworks/Python.framework/` (for me, they're inside `/Library/Frameworks/Python.framework/Versions/2.7/lib/python2.7/site-packages/`). If you have trouble finding them, search for pyo64.py in Spotlight, or at the terminal type `locate pyo64.py`\n",
    "\n",
    "The need to be moveed **to** your Anaconda python packages folder. Most of the time, it will be \n",
    "`~/anaconda2/lib/python2.7/site-packages/`.\n",
    "\n",
    "* Let's test it. In terminal, enter `python`, then:\n",
    "``` python\n",
    "    >>>import pyo\n",
    "    pyo version 0.8.0 (uses single precision)\n",
    "```\n",
    "\n",
    "If you see this, all is good.\n"
   ]
  },
  {
   "cell_type": "markdown",
   "metadata": {},
   "source": [
    "Installing Sublime Text\n",
    "===\n",
    "Sublime Text is a popular text editor with a very large collection of plugins and themes that allow you to make it anything you want it to be. It is not free, but has a generous trial-use policy. If you like it, please purchase a license.\n",
    "\n",
    "To install Sublime Text, go to the [Downloads](http://www.sublimetext.com/3) page, and click on the OS X installer. There are lots of handy packages for Sublime Text. To install them, you'll want to first install [Package Control](https://packagecontrol.io/installation), then you can install packages right from within Sublime Text. Some especially handy ones are [Origami](https://packagecontrol.io/packages/Origami), [SublimeREPL](https://packagecontrol.io/packages/SublimeREPL), [AdvancedCSV](https://packagecontrol.io/packages/Advanced%20CSV), and [Terminal](https://packagecontrol.io/packages/Terminal) "
   ]
  },
  {
   "cell_type": "markdown",
   "metadata": {},
   "source": [
    "[top](#)"
   ]
  },
  {
   "cell_type": "markdown",
   "metadata": {},
   "source": [
    "- - -\n",
    "[Previous: Programming Environment](http://nbviewer.ipython.org/urls/raw.github.com/ehmatthes/intro_programming/master/notebooks/programming_environment.ipynb) | \n",
    "[Home](http://nbviewer.ipython.org/urls/raw.github.com/ehmatthes/intro_programming/master/notebooks/index.ipynb) | \n",
    "[Next: Hello World](http://nbviewer.ipython.org/urls/raw.github.com/ehmatthes/intro_programming/master/notebooks/hello_world.ipynb)"
   ]
  }
 ],
 "metadata": {
  "kernelspec": {
   "display_name": "Python 2",
   "language": "python",
   "name": "python2"
  },
  "language_info": {
   "codemirror_mode": {
    "name": "ipython",
    "version": 2
   },
   "file_extension": ".py",
   "mimetype": "text/x-python",
   "name": "python",
   "nbconvert_exporter": "python",
   "pygments_lexer": "ipython2",
   "version": "2.7.13"
  },
  "toc": {
   "nav_menu": {
    "height": "14px",
    "width": "160px"
   },
   "number_sections": true,
   "sideBar": true,
   "skip_h1_title": false,
   "toc_cell": true,
   "toc_position": {},
   "toc_section_display": "block",
   "toc_window_display": false
  }
 },
 "nbformat": 4,
 "nbformat_minor": 1
}
