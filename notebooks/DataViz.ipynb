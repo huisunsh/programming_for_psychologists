{
 "cells": [
  {
   "cell_type": "markdown",
   "metadata": {},
   "source": [
    "<sidebar>\n",
    "Psych711\n",
    "\n",
    "</sidebar>\n",
    "I will be gradually posting various cool examples of Data Visualization\n",
    "in R, Python, JavaScript, etc. Here are some recommended resources:\n",
    "\n",
    "### Books\n",
    "\n",
    "-   [Visualize\n",
    "    This](http://www.amazon.com/Visualize-This-FlowingData-Visualization-Statistics/dp/0470944889/ref=sr_1_1?s=books&ie=UTF8&qid=1323672630&sr=1-1)\n",
    "    by Nathan Yau, the guy behind the [Flowing\n",
    "    Data](http://flowingdata.com/) blog\n",
    "\n",
    "### Graphing libraries\n",
    "\n",
    "-   [GGplot graphing library for R](http://had.co.nz/ggplot)\n",
    "-   [MatPlotLib](http://matplotlib.sourceforge.net/), the basic plotting\n",
    "    library for Python.\n",
    "-   [EazyViz](http://code.google.com/p/scitools/wiki/EasyvizDocumentation)\n",
    "    more Python graphing. Check out the 3D quiver plot!\n",
    "-   [Mayavi2](http://code.enthought.com/projects/mayavi/), a\n",
    "    sophisticated visualization platform especially for 3D and complex\n",
    "    visualization. Includes a GUI.\n",
    "\n",
    "### Tutorials\n",
    "\n",
    "I was going to do this precise tutorial showing how to create\n",
    "publication-quality \\*useful\\* graphs with ggplot, but someone\n",
    "(thankfully) beat me to it. [Psychology-type graphs using\n",
    "GGplot](http://egret.psychol.cam.ac.uk/statistics/R/graphs2.html). These\n",
    "examples also show one way to convert between \\'wide\\' types (bad) and\n",
    "\\'long\\' types (good). For more flexible conversions check out the melt\n",
    "and cast functions in the reshape package written by Hadley Wickham,\n",
    "also the author of GGPlot.\\\n",
    "\\\n",
    "[Joe Fruehwald\\'s GGPlot\n",
    "tutorial](http://www.ling.upenn.edu/~joseff/rstudy/summer2010_ggplot2_intro.html).\n",
    "Notice in particular the graphs that use an interaction factor, e.g.,\n",
    "factor=subj:block)\\\n",
    "\\\n",
    "Another excellent [set of\n",
    "examples](http://www.cookbook-r.com/Graphs/Plotting_means_and_error_bars_(ggplot2)/)\n",
    "with an emphasis on displaying within-subject error bars (something most\n",
    "people do incorrectly). The R Cookbook site has some other excellent\n",
    "tutorials on ggplot.\\\n",
    "\\\n",
    "It can be annoying to figure out how to set the attributes (font, size,\n",
    "etc.) of various graph attributes. Here are some descriptions of [ggplot\n",
    "theme\n",
    "definitions](http://sape.inf.usi.ch/quick-reference/ggplot2/themes), and\n",
    "[examples of modifying ggplot\n",
    "legends](http://wiki.stdout.org/rcookbook/Graphs/Legends%20(ggplot2))\n",
    "\n",
    "Examples\n",
    "--------\n",
    "\n",
    "#### Plotting a 3d trajectory from some points using splines (in R)"
   ]
  },
  {
   "cell_type": "code",
   "execution_count": null,
   "metadata": {},
   "outputs": [],
   "source": [
    "library(rgl)\n",
    "x <- splinefun(1:10, c(25,12,2,2,1,1,4,10,12,14)) #splinefun fits a spline \n",
    "y <- splinefun(1:10, c(32,25,12,2,2,2,5,7,8,10))\n",
    "z <- splinefun(1:10, c(40,32,25,12,10,12,25,32,40,44))\n",
    "\n",
    "times <- seq(1, 10, len=200)\n",
    "plot3d(x(times), y(times), z(times), type=\"l\",xlab=\"x\",ylab=\"y\",zlab=\"z\",col=\"red\")"
   ]
  },
  {
   "cell_type": "markdown",
   "metadata": {},
   "source": [
    "If you want to plot multiple trajectories on the same graph, add\n",
    "additional ones like so:"
   ]
  },
  {
   "cell_type": "code",
   "execution_count": null,
   "metadata": {},
   "outputs": [],
   "source": [
    "plot3d(x2(times), y2(times), z2(times), type=\"l\",add=TRUE,col=\"green\")\n",
    "plot3d(x3(times), y3(times), z3(times), type=\"l\",add=TRUE,col=\"red\")"
   ]
  },
  {
   "cell_type": "markdown",
   "metadata": {},
   "source": [
    "You can spin the graph around using the mouse and zoom-in/out using the\n",
    "mousewheel. Save it using rgl.snapshot. See ?rgl.snapshot for info on\n",
    "syntax. ![3d trajectory from a set of\n",
    "points](Plot3dExample.png \"fig:3d trajectory from a set of points\")\n",
    "\n",
    "[Category:QuickReference](Category:QuickReference \"wikilink\")"
   ]
  }
 ],
 "metadata": {},
 "nbformat": 4,
 "nbformat_minor": 2
}
