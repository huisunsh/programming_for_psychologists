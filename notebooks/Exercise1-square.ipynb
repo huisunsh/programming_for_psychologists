{
 "cells": [
  {
   "cell_type": "markdown",
   "metadata": {},
   "source": [
    "# Exercise 1: Make a square and play with it\n",
    "------------------------------"
   ]
  },
  {
   "cell_type": "code",
   "execution_count": null,
   "metadata": {},
   "outputs": [],
   "source": [
    "import time\n",
    "import sys\n",
    "from psychopy import visual,event,core\n",
    " \n",
    "win = visual.Window([400,400],color=\"black\", units='pix')\n",
    "square = visual.Rect(win,lineColor=\"black\",fillColor=\"blue\",size=[100,100])\n",
    "square.draw()\n",
    "win.flip()\n",
    "core.wait(.5) #pause for 500 ms (half a second)\n",
    "sys.exit()"
   ]
  },
  {
   "cell_type": "markdown",
   "metadata": {},
   "source": [
    "Go through each line and understand what it does. Then\n",
    "\n",
    "## Make the square red instead of blue\n",
    "\n",
    "## Make the square appear for 1.5 secs.\n",
    "\n",
    "## Make the square appear for 1.5 secs, then show a blank screen for 1 sec, then flash the square for 30 ms\n",
    "\n",
    "## Show a red square for 1 s, then switch it to blue and show it for 1 s\n",
    "\n",
    "## Show the following sequence: blue, red, blue, red, blue, red\n",
    "\n",
    "## Show a red square for 1 s then change its orientation by 45-deg\n",
    "\n",
    "## Now make a square rotate continuously, one full revolution (360 degrees) per second\n",
    "\n",
    "## Make a rotating square stop rotating when you press the 's' key\n",
    "\n",
    "## Make a square stop rotating when you press 's' and then start rotating again when you press 'r'\n",
    "\n",
    "## Display a blue square and increase its width by 10 pixels whenever the user presses the left-arrow key. Decrease the width by 10 pixels when the user presses the right-arrow key\n",
    "<div class=\"alert alert-block alert-info\">\n",
    "The key codes for right and left arrows in PsychoPy is simply 'left' and 'right'\n",
    "</div>\n",
    "\n",
    "\n",
    "## Now make the shape decrease/increase width by 10% of its current width with each keypress instead of 10 pixels\n",
    "\n",
    "## Show *two* rotating squares simultaneously, one left of center rotating clockwise, the other right of center, rotating counterclockwise\n",
    "\n",
    "## Do something that's not listed here (e.g., make it a pentagon instead of a square, make the color track the current price of Apple stock, etc.)\n"
   ]
  },
  {
   "cell_type": "code",
   "execution_count": null,
   "metadata": {},
   "outputs": [],
   "source": []
  }
 ],
 "metadata": {
  "kernelspec": {
   "display_name": "Python 2",
   "language": "python",
   "name": "python2"
  },
  "language_info": {
   "codemirror_mode": {
    "name": "ipython",
    "version": 2
   },
   "file_extension": ".py",
   "mimetype": "text/x-python",
   "name": "python",
   "nbconvert_exporter": "python",
   "pygments_lexer": "ipython2",
   "version": "2.7.13"
  },
  "toc": {
   "nav_menu": {},
   "number_sections": true,
   "sideBar": false,
   "skip_h1_title": false,
   "toc_cell": false,
   "toc_position": {},
   "toc_section_display": "block",
   "toc_window_display": false
  }
 },
 "nbformat": 4,
 "nbformat_minor": 2
}
