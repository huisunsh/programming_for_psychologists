{
 "cells": [
  {
   "cell_type": "markdown",
   "metadata": {
    "toc": true
   },
   "source": [
    "<h1>Table of Contents<span class=\"tocSkip\"></span></h1>\n",
    "<div class=\"toc\" style=\"margin-top: 1em;\"><ul class=\"toc-item\"><li><span><a href=\"#Exercise-8---Interactive-tilt-adjustment\" data-toc-modified-id=\"Exercise-8---Interactive-tilt-adjustment-1\"><span class=\"toc-item-num\">1&nbsp;&nbsp;</span>Exercise 8 - Interactive tilt adjustment</a></span></li></ul></div>"
   ]
  },
  {
   "cell_type": "markdown",
   "metadata": {},
   "source": [
    "# Exercise 8 - Interactive tilt adjustment\n",
    "\n",
    "Inside the exercise 8 repo is a 1-page article by [Whitaker and McGraw\n",
    "(2000)](http://www.nature.com/neuro/journal/v3/n1/full/nn0100_13.html) who report a curious tilt illusion that I have recreated for you below."
   ]
  },
  {
   "cell_type": "markdown",
   "metadata": {},
   "source": [
    "<img src=\"images/digitalclocks.png\" width=\"460\">"
   ]
  },
  {
   "cell_type": "markdown",
   "metadata": {},
   "source": [
    "Believe it or not, the degree of tilt of the numbers in the two alarm clocks is exactly the same. More curious still is that the illusion largely goes away if the stimuli are not plausible numbers (though depending on the conditions, it can be elicited with letters as well). See for yourselves!"
   ]
  },
  {
   "cell_type": "markdown",
   "metadata": {},
   "source": [
    "<img src=\"images/digitalclocks_reversed.png\" width=\"460\">"
   ]
  },
  {
   "cell_type": "markdown",
   "metadata": {},
   "source": [
    "If we are going to figure out what causes this illusion, we nede to start by measuring its strength. How do we do this?But how do we actually measure the strength of this illusion? We're going to see if we can replicate their finding\n",
    "using a more rigorous design.\n",
    "\n",
    "Your task is to fill in the missing parts of `cycleThroughTrials()`\n",
    "\n",
    "On each trial, the participant will view one of the \"standard\" images.\n",
    "Their goal is to adjust the orientation of a small gabor stimulus to match the\n",
    "orientation of the standard image. The orientation of the gabor will be adjusted \n",
    "using the mouse wheel. \n",
    "\n",
    "Assume that you are provided with `curTrial`, a list of dictionaries such\n",
    "that each time cycleThroughTrials is called it receives the information\n",
    "on the current trial.\n",
    "\n",
    "`curTrial['standardStim']` will contain the filename of the \"standard\"\n",
    "image e.g., 12-col-34_12_right corresponds to 12:34 tilted 12 degrees\n",
    "to the right.\n",
    "\n",
    "The positions in which each stimulus will be presented are likewise\n",
    "given as part of the curTrial dictionary (see code below).\n",
    "\n",
    "Your task is to fill in `do_adjustment()` withthe code necessary to display the stimuli, update the orientation of `adjustingStim`. \n",
    "\n",
    "For practice, see if you can get the output to print in the following way:\n",
    "\n",
    "\n",
    "```\n",
    "stimType base orientation angle direction response\n",
    "letters ycyc inverted 2 left 3\n",
    "letters ycyc upright 5 right 3\n",
    "numbers 7-44 upright 12 left 2\n",
    "numbers 7-44 inverted 12 left -10\n",
    "```"
   ]
  },
  {
   "cell_type": "markdown",
   "metadata": {},
   "source": [
    "Here is the code for getting mouse wheel movements (which are equivalent to scrolling on a\n",
    "trackpad, normally a two finger vertical swipe)."
   ]
  },
  {
   "cell_type": "code",
   "execution_count": null,
   "metadata": {},
   "outputs": [],
   "source": [
    "from psychopy import core, visual, prefs, event\n",
    "win = visual.Window([800,600],color=\"white\", units='pix')\n",
    "\n",
    "myMouse = event.Mouse()\n",
    "myMouse.setVisible(0)\n",
    "\n",
    "numWheelTurnsDown=numWheelTurnsUp=0\n",
    "while True:\n",
    "    wheelRel = myMouse.getWheelRel()[1]\n",
    "    if wheelRel>0.0:\n",
    "        numWheelTurnsDown+=1\n",
    "        print 'wheel down', numWheelTurnsUp, numWheelTurnsDown\n",
    "    elif wheelRel<0.0:\n",
    "        numWheelTurnsUp+=1\n",
    "        print 'wheel up', numWheelTurnsUp, numWheelTurnsDown\n",
    "        "
   ]
  },
  {
   "cell_type": "markdown",
   "metadata": {},
   "source": [
    "And here's your starter code"
   ]
  },
  {
   "cell_type": "code",
   "execution_count": null,
   "metadata": {},
   "outputs": [],
   "source": [
    "from psychopy import core, visual, prefs, event\n",
    "from useful_functions import *\n",
    "win = visual.Window([800,600],color=\"black\", units='pix')\n",
    "myMouse = event.Mouse()\n",
    "myMouse.setVisible(0)\n",
    "\n",
    "pics =  loadFiles('stimuli/','.png','image', win=win)\n",
    "adjustStim = visual.GratingStim(win=win,tex='sin', mask='gauss',interpolate=True, size=[8,96], pos=[0,-150], color=\"white\")\n",
    "\n",
    "\n",
    "def do_adjustment(pic):\n",
    "\tnumWheelTurnsDown=numWheelTurnsUp=0\n",
    "\tresponded=False\n",
    "\twhile not responded:\n",
    "\t\tpics[pic]['stim'].draw()\n",
    "\t\tadjustStim.draw()\n",
    "\n",
    "\t\t#insert your code here\n",
    "\n",
    "\t\tif myMouse.getPressed()[0]==1:\n",
    "\t\t\tresponded=True\n",
    "\t\twin.flip()\n",
    "\t\n",
    "\n",
    "for i in range(10):\n",
    "\tdo_adjustment(random.choice(pics.keys()))"
   ]
  },
  {
   "cell_type": "markdown",
   "metadata": {},
   "source": [
    "<div class=\"alert alert-block alert-info\">\n",
    "Hint: Make sure to print a test message each time you register a response so you can make sure your response collection is working as it should.\n",
    "</div>"
   ]
  },
  {
   "cell_type": "markdown",
   "metadata": {},
   "source": [
    "## Improving the design\n",
    "\n",
    "What are some things you can add to this experiment to improve the procedure?"
   ]
  }
 ],
 "metadata": {
  "kernelspec": {
   "display_name": "Python 2",
   "language": "python",
   "name": "python2"
  },
  "language_info": {
   "codemirror_mode": {
    "name": "ipython",
    "version": 2
   },
   "file_extension": ".py",
   "mimetype": "text/x-python",
   "name": "python",
   "nbconvert_exporter": "python",
   "pygments_lexer": "ipython2",
   "version": "2.7.13"
  },
  "toc": {
   "nav_menu": {},
   "number_sections": true,
   "sideBar": true,
   "skip_h1_title": false,
   "toc_cell": true,
   "toc_position": {
    "height": "765px",
    "left": "0px",
    "right": "1560.45px",
    "top": "110px",
    "width": "185px"
   },
   "toc_section_display": "block",
   "toc_window_display": true
  }
 },
 "nbformat": 4,
 "nbformat_minor": 2
}
