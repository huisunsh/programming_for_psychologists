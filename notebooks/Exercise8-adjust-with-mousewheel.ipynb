{
 "cells": [
  {
   "cell_type": "markdown",
   "metadata": {},
   "source": [
    "<sidebar>\n",
    "Psych711\n",
    "\n",
    "</sidebar>\n",
    "Inside the exercise 8 folder is a 1-page article by [Whitaker and McGraw\n",
    "(2000)](http://www.nature.com/neuro/journal/v3/n1/full/nn0100_13.html).\n",
    "Have a look at it. We\\'re going to see if we can replicate their finding\n",
    "using a more rigorous design.\n",
    "\n",
    "Your task is to fill in the missing parts in the cycleThroughTrials()\n",
    "function below (the code is in adjustTilt\\_base.py).\n",
    "\n",
    "On each trial, the participant will view one of the \\\"standard\\\" images.\n",
    "Their goal is to adjust the orientation of another stimulus to match the\n",
    "orientation of the standard. They will adjust the orientation by using\n",
    "the mouse wheel. Up means increase orientation. Down means decrease\n",
    "orientation.\n",
    "\n",
    "Assume that you are provided with a curTrial list of dictionaries such\n",
    "that each time cycleThroughTrials is called it receives the information\n",
    "on the current trial.\n",
    "\n",
    "`curTrial['standardStim']` will contain the filename of the \\\"standard\\\"\n",
    "image e.g., 12-col-34\\_12\\_right corresponds to 12:34 tilted 12 degrees\n",
    "to the right.\n",
    "\n",
    "`curTrial['adjustingStim']` will contain the name of the stimulus whose\n",
    "orientation is being adjusted. (1 or pipe).\n",
    "\n",
    "The positions in which each stimulus will be presented are likewise\n",
    "given as part of the curTrial dictionary (see code below).\n",
    "\n",
    "Your task for this assignment is to fill in cycleThroughTrials() with\n",
    "the code necessary to display the stimuli, update the orientation of\n",
    "`adjustingStim`, and, when the participant clicks a mouse-button,\n",
    "writing the output to an output file. More info provided below. Basic\n",
    "code for monitoring mouse-wheels is provided below and in\n",
    "mouseWheelBasics.py"
   ]
  },
  {
   "cell_type": "code",
   "execution_count": null,
   "metadata": {},
   "outputs": [],
   "source": [
    "from psychopy import core, visual, prefs, event\n",
    "from myFirstLibrary import *\n",
    "win = visual.Window([800,600],color=\"white\", units='pix')\n",
    "myMouse = event.Mouse()\n",
    "myMouse.setVisible(0)\n",
    "\n",
    "pics =  loadFiles('stimuli/','.png','image', win=win)\n",
    "\n",
    "def cycleThroughTrials(curTrial):\n",
    "\n",
    "    pics[curTrial['standardStim']]['stim'].setPos(curTrial['standardStimPos'])\n",
    "    pics[curTrial['adjustingStim']]['stim'].setPos(curTrial['adjustingStimPos'])\n",
    "\n",
    "    while noResponse:\n",
    "        pics[curTrial['standardStim']]['stim'].draw()\n",
    "        pics[curTrial['adjustingStim']]['stim'].draw()\n",
    "\n",
    "        #.... monitor for mouse wheel movements and update orientation of adjustStim as necessary\n",
    "        \n",
    "        win.flip()\n",
    "    \n",
    "    \"\"\"\n",
    "    assume curTrial['header'] contains a list of the keys of the dependent and runtime variables that can be used \n",
    "    as keys in curTrial. \n",
    "\n",
    "    Write the runtime/independent variables (tab delimited) to an output file (named subjInfo_data.txt) listing the \n",
    "    runtime/independent variables in the order specified in trialInfo['header'], followed by the dependent variables (angle of response \n",
    "    , number of wheel turns, and RT\n",
    "    \"\"\""
   ]
  },
  {
   "cell_type": "markdown",
   "metadata": {},
   "source": [
    "Basic code for monitoring mouse wheel movements (scrolling on a\n",
    "trackpad). See also mouseWheelBasics.py inside the Exercise 8 folder."
   ]
  },
  {
   "cell_type": "code",
   "execution_count": null,
   "metadata": {},
   "outputs": [],
   "source": [
    "from psychopy import core, visual, prefs, event\n",
    "win = visual.Window([800,600],color=\"white\", units='pix')\n",
    "\n",
    "myMouse = event.Mouse()\n",
    "myMouse.setVisible(0)\n",
    "\n",
    "numWheelTurnsDown=numWheelTurnsUp=0\n",
    "while True:\n",
    "    wheelRel = myMouse.getWheelRel()[1]\n",
    "    if wheelRel>0.0:\n",
    "        numWheelTurnsDown+=1\n",
    "        print 'wheel down'\n",
    "    elif wheelRel<0.0:\n",
    "        numWheelTurnsUp+=1\n",
    "        print 'wheel up'\n",
    "    if myMouse.getPressed()[0]==1:\n",
    "        print 'responded'\n",
    "        "
   ]
  },
  {
   "cell_type": "markdown",
   "metadata": {},
   "source": [
    "[Category:Exercise](Category:Exercise \"wikilink\")"
   ]
  }
 ],
 "metadata": {},
 "nbformat": 4,
 "nbformat_minor": 2
}
