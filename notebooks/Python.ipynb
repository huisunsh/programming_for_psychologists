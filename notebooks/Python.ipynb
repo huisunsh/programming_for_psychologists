{
 "cells": [
  {
   "cell_type": "markdown",
   "metadata": {},
   "source": [
    "<sidebar>\n",
    "Psych711\n",
    "\n",
    "</sidebar>\n",
    "Python basics - Getting help\n",
    "----------------------------\n",
    "\n",
    "-   There are many places to turn to for a Python reference and basic\n",
    "    help. The quickest way to get help on a function is to google\n",
    "    `python what you're looking for`. Typically, google will refer you\n",
    "    to <http://docs.python.org/>. For example, try googling\n",
    "    `python randomize`. Google is good. Below are some additional\n",
    "    references:\n",
    "\n",
    ":   1\\. Search <http://stackoverflow.com>"
   ]
  },
  {
   "cell_type": "code",
   "execution_count": null,
   "metadata": {},
   "outputs": [],
   "source": [
    ":   For example, try searching for `python randomize` on\n",
    "    stackoverflow."
   ]
  },
  {
   "cell_type": "markdown",
   "metadata": {},
   "source": [
    ":   2\\. <http://software-carpentry.org/4_0/python/> Software Carpentry also\n",
    "    has lectures and tutorials on Linux, Scientific Computing, and many\n",
    "    other topics.\n",
    ":   3\\. If you\\'re having trouble conceptualizing how Python executes some\n",
    "    bit of code, the [Python\n",
    "    visualizer](http://pythontutor.com/visualize.html) can help.\n",
    ":   4\\. Check out [this page](http://intro-prog-bioinfo-2009.wikispaces.com/)\n",
    "    for a python crash course taught at UC Berkeley by my friend Lenny\n",
    "    Teytelman\n",
    ":   5\\. If you\\'re a Matlab user transitioning to Python, this is the page\n",
    "    for you: [NumPy for Matlab\n",
    "    users](http://mathesaurus.sourceforge.net/matlab-numpy.html)\n",
    ":   6\\. There are some handy references in the `Psych711_commons\\programming`\n",
    "    references folder in Box.\n",
    "\n",
    "Quick references\n",
    "----------------\n",
    "\n",
    "-   Lists and list comprehension:\n",
    "    <http://docs.python.org/tutorial/datastructures.html#more-on-lists>\n",
    "-   Useful functions for Python dictionaries:\n",
    "    <http://docs.python.org/release/2.5.2/lib/typesmapping.html>\n",
    "-   Writing/reading files:\n",
    "    <http://docs.python.org/tutorial/inputoutput.html#reading-and-writing-files>\n",
    "-   Sorting lists and dictionaries - nice tips for how to sort by a\n",
    "    particular key: <http://wiki.python.org/moin/HowTo/Sorting>\n",
    "\n",
    "Python mini tutorials and tips\n",
    "------------------------------\n",
    "\n",
    "### Get help on a module\n",
    "\n",
    "-   To get help on the functions contained in some module, for instance,\n",
    "    the module \\'string\\', type\n",
    "\n",
    "`help('string')`\n",
    "\n",
    "Oo, look at that, learn something every time..:\n",
    "\n",
    "`import string`\\\n",
    "`string.letters`\\\n",
    "`>>> 'a' in string.letters`\\\n",
    "` True`\\\n",
    "`>>> 'D' in string.letters`\\\n",
    "` True`\\\n",
    "`>>> '3' in string.letters`\\\n",
    "` False`\n",
    "\n",
    "### Notes on importing libraries and functions\n",
    "\n",
    "Python provides a somewhat confusing variety of ways of importing\n",
    "functions and libraries.\n",
    "\n",
    "`import X`\\\n",
    "`import X as Y`\\\n",
    "`from X import *`\\\n",
    "`from X import a,b,c`\\\n",
    "`X = __import__('X')`\n",
    "\n",
    "The differences and pros and cons are discussed in this excellent\n",
    "[article](http://effbot.org/zone/import-confusion.htm)\n",
    "\n",
    "-   To find out the version of the library you\\'ve improted:\n",
    "\n",
    "`import nltk`\\\n",
    "`nltk.__version__`\n",
    "\n",
    "-   To find out the location of the source files that are being loaded\n",
    "    when you import a library:\n",
    "\n",
    "`import nltk`\\\n",
    "`nltk.__file__`\n",
    "\n",
    "### Finding something in lists and strings\n",
    "\n",
    "Supposed you have a list called shoppingList:"
   ]
  },
  {
   "cell_type": "code",
   "execution_count": null,
   "metadata": {},
   "outputs": [],
   "source": [
    "shoppingList =  ['apples', 'oranges', 'screwdriver']"
   ]
  },
  {
   "cell_type": "markdown",
   "metadata": {},
   "source": [
    "And you want to determine if this list contains some item, say,\n",
    "\\'apples\\'. The easiest way to do it is to use \\'in\\'"
   ]
  },
  {
   "cell_type": "code",
   "execution_count": null,
   "metadata": {},
   "outputs": [],
   "source": [
    "if 'apples' in shoppingList:\n",
    "    print 'yep'"
   ]
  },
  {
   "cell_type": "markdown",
   "metadata": {},
   "source": [
    "Now, suppose your shopping list is in a string called shopping list and\n",
    "you want to to determine if a string variable called shoppingList\n",
    "contains the word \\'apples\\' in it."
   ]
  },
  {
   "cell_type": "code",
   "execution_count": null,
   "metadata": {},
   "outputs": [],
   "source": [
    "shoppingString =  'apples, oranges, screwdriver'"
   ]
  },
  {
   "cell_type": "markdown",
   "metadata": {},
   "source": [
    "Turns out \\'in\\' works here as well:"
   ]
  },
  {
   "cell_type": "code",
   "execution_count": null,
   "metadata": {},
   "outputs": [],
   "source": [
    "if 'apples' in shoppingString:\n",
    "    print 'yep'"
   ]
  },
  {
   "cell_type": "markdown",
   "metadata": {},
   "source": [
    "The reason \\'in\\' operator works here is that \\'in\\' is defined for all\n",
    "sequences (lists, tuples, strings, etc.). Note, however, that in this\n",
    "case, there is an ambiguity. In the case of a shoppingList list,\n",
    "\\'apples\\' is a standalone element. In the case of a shoppingList\n",
    "string, python doesn\\'t know where one element starts and the next\n",
    "stops. Therefore, both of these statements will be true for\n",
    "shoppingString:\n",
    "\n",
    "`'apple' in shoppingString #true`\\\n",
    "`'apples' in shoppingString #true`\n",
    "\n",
    "but not for shoppingList\n",
    "\n",
    "`'apple' in shoppingList #false`\\\n",
    "`'apples' in shoppingList #true`\n",
    "\n",
    "Just as you can use \\'in\\' to check if an element is contained in a\n",
    "sequence, you can use \\'not in\\' to check if it\\'s not in the sequence.\n",
    "\n",
    "### Use Exceptions\n",
    "\n",
    "See the Python doc on exceptions here\n",
    "<http://docs.python.org/tutorial/errors.html> The \\'pythonic\\' way of\n",
    "doing things is to try it and catch the exception rather than check\n",
    "first.\\\n",
    "For example, rather than doing this:"
   ]
  },
  {
   "cell_type": "code",
   "execution_count": null,
   "metadata": {},
   "outputs": [],
   "source": [
    "if os.path.exists('name.txt'):\n",
    "   f = open('name.txt','r')\n",
    "else:\n",
    "   print \"file does not exist\""
   ]
  },
  {
   "cell_type": "markdown",
   "metadata": {},
   "source": [
    "do this:"
   ]
  },
  {
   "cell_type": "code",
   "execution_count": null,
   "metadata": {},
   "outputs": [],
   "source": [
    "try:\n",
    "    f = open('name.txt','r')\n",
    "except IOError:\n",
    "    print \"erm, file not found\""
   ]
  },
  {
   "cell_type": "markdown",
   "metadata": {},
   "source": [
    "There are many cases where you **have** to use exceptions to keep your\n",
    "program from crashing, for example, division by 0.\n",
    "\n",
    "### Using list comprehension\n",
    "\n",
    "This\n",
    "\n",
    "`[letter for letter in 'abracadabra']`\n",
    "\n",
    "is better than this\n",
    "\n",
    "`for letter in 'abcracadabra'`\\\n",
    "`  print letter`\n",
    "\n",
    "\\\n",
    "Here\\'s another\n",
    "[example](http://28.media.tumblr.com/tumblr_lextc0dLei1qb98uxo1_500.jpg).\n",
    "Say you have a list of names and you want to split them into first and\n",
    "last names"
   ]
  },
  {
   "cell_type": "code",
   "execution_count": null,
   "metadata": {},
   "outputs": [],
   "source": [
    "names = ['Ed Sullivan', 'Salvador Dali']\n",
    "firstNames = [name.split(' ')[0] for name in names]\n",
    "lastNames =  [name.split(' ')[1] for name in names]"
   ]
  },
  {
   "cell_type": "markdown",
   "metadata": {},
   "source": [
    "\\\n",
    "Another example: generate 100 random numbers in the range 1-5:"
   ]
  },
  {
   "cell_type": "code",
   "execution_count": null,
   "metadata": {},
   "outputs": [],
   "source": [
    "[random.randint(1,5) for i in range(100)]"
   ]
  },
  {
   "cell_type": "markdown",
   "metadata": {},
   "source": [
    "\\\n",
    "Or generate 100 random letters:"
   ]
  },
  {
   "cell_type": "code",
   "execution_count": null,
   "metadata": {},
   "outputs": [],
   "source": [
    "[random.choice(list(string.ascii_lowercase)) for i in range(100)]"
   ]
  },
  {
   "cell_type": "markdown",
   "metadata": {},
   "source": [
    "\\\n",
    "And yet another example, this one restricting the output using a\n",
    "conditional. Generate numbers from 0-7, but omitting 2 and 5:"
   ]
  },
  {
   "cell_type": "code",
   "execution_count": null,
   "metadata": {},
   "outputs": [],
   "source": [
    "[location for location in range(8) if location not in [2,5]]"
   ]
  },
  {
   "cell_type": "markdown",
   "metadata": {},
   "source": [
    "\\\n",
    "[List\n",
    "comprehension!](http://docs.python.org/tutorial/datastructures.html#list-comprehensions)\n",
    "all the cool kids do it.\\\n",
    "\\\n",
    "On the other hand\\.... think twice before obfuscating your code:\\\n",
    "For example, the [repetition\n",
    "function](http://sapir.psych.wisc.edu/wiki/index.php/Exercise4-trials)\n",
    "can be rewritten as a one-liner:"
   ]
  },
  {
   "cell_type": "code",
   "execution_count": null,
   "metadata": {},
   "outputs": [],
   "source": [
    "def repetition(letters,numberBeforeSwitch,numRepetitions):\n",
    "       print '\\n'.join([item for sublist in  [[i] * numberBeforeSwitch for i in letters] for item in sublist] * numRepetitions)"
   ]
  },
  {
   "cell_type": "markdown",
   "metadata": {},
   "source": [
    "It is fast and compact, but certainly not very clear.\n",
    "\n",
    "### How to flatten a list\n",
    "\n",
    "Say you\\'ve got a list like this:\n",
    "\n",
    "`list1`\\\n",
    "`[['A','B'],['A','B'],['C','D'],['C','D']]`\n",
    "\n",
    "But what you want is this:\n",
    "\n",
    "`list2`\\\n",
    "`['A','B','A','B','C','D','C',D']`\n",
    "\n",
    "You can turn list1 into list2 (i.e., *flatten* list1, like so:"
   ]
  },
  {
   "cell_type": "code",
   "execution_count": null,
   "metadata": {},
   "outputs": [],
   "source": [
    "list2 = [item for sublist in list1 for item in sublist]"
   ]
  },
  {
   "cell_type": "markdown",
   "metadata": {},
   "source": [
    "The above method will only work for flattening lists of depth-1, see\n",
    "[here](http://rightfootin.blogspot.com/2006/09/more-on-python-flatten.html)\n",
    "for more information.\\\n",
    "\\\n",
    "An alternative way of flattening a list is to use NumPy. Assuming we\n",
    "have a variable called list1,\n",
    "\n",
    "`list1`\\\n",
    "`[['A','B'],['A','B'],['C','D'],['C','D']]`"
   ]
  },
  {
   "cell_type": "code",
   "execution_count": null,
   "metadata": {},
   "outputs": [],
   "source": [
    "import numpy\n",
    "list1 = numpy.array(list1) #convert it to a numpy array\n",
    "list1 = list1.flatten() #flatten it\n",
    "list1 = list(list1) #convert it back to a Python list, if you want. \n",
    "#we can, of course, do it all in one line: list1 = list(numpy.array(list1).flatten())"
   ]
  },
  {
   "cell_type": "markdown",
   "metadata": {},
   "source": [
    "(In cases like this, you can continue to work with the NumPy Array,\n",
    "which lets you do all sorts of [neat\n",
    "things](http://mathesaurus.sourceforge.net/matlab-numpy.html)).\n",
    "\n",
    "### Use sets\n",
    "\n",
    "-   Don\\'t reinvent the wheel. Operations like computing intersections,\n",
    "    unions, and uniqueness are all well-defined functions in set\n",
    "    notation and are built in to Python. See\n",
    "    [here](http://docs.python.org/library/sets.html#set-objects). Some\n",
    "    examples of sets:\n",
    "\n",
    "Get the intersection (the elements in common)\n",
    "\n",
    "`>>> set('abc').intersection('cde')`\\\n",
    "`set(['c'])`\n",
    "\n",
    "Get the union (all the elements)\n",
    "\n",
    "`>>> set('abc').union('cdef')`\\\n",
    "`set(['a', 'c', 'b', 'e', 'd', 'f'])`\n",
    "\n",
    "-   Note that because, by definition, a set can only contain unique\n",
    "    elements, they are a good way to get all the distinct elements in a\n",
    "    list.\n",
    "\n",
    "`>>> spam = ['s','s','s','p','p','a','m']`\\\n",
    "`>>> set(spam)`\\\n",
    "` set(['a', 'p', 's', 'm'])`\n",
    "\n",
    "Caveat: sets are, by definition, not ordered, hence we are not\n",
    "guaranteed to get \\'s\\',\\'p\\',\\'a\\',\\'m\\'\n",
    "\n",
    "Let\\'s see what spam and ham have in common\n",
    "\n",
    "`>>>set('spam').intersection('ham')`\\\n",
    "` set(['a', 'm'])`\n",
    "\n",
    "And what they don\\'t\n",
    "\n",
    "`>>> set('spam').difference('ham')`\\\n",
    "` set(['p', 's'])`\n",
    "\n",
    "### Arithmetic and floating point notation\n",
    "\n",
    "-   Python uses dynamic typing. This means that it attempts to\n",
    "    automatically detect the type of variable you are creating.\n",
    "\n",
    "For example\n",
    "\n",
    "`spam = \"can be fried\"`\n",
    "\n",
    "Assigns the string `can be fried` to the variable spam. It knows it\\'s a\n",
    "string because it\\'s in quotations\n",
    "\n",
    "`spam = 3`\n",
    "\n",
    "assigns spam to the integer 3, which is not the same as\n",
    "\n",
    "`spam2 = '3'`"
   ]
  },
  {
   "cell_type": "code",
   "execution_count": null,
   "metadata": {},
   "outputs": [],
   "source": [
    ">>> spam==spam2\n",
    "False"
   ]
  },
  {
   "cell_type": "markdown",
   "metadata": {},
   "source": [
    "Because a bare numeral like 3 defaults to an integer, you can get\n",
    "unexpected behavior:"
   ]
  },
  {
   "cell_type": "code",
   "execution_count": null,
   "metadata": {},
   "outputs": [],
   "source": [
    ">>> spam/2\n",
    "1"
   ]
  },
  {
   "cell_type": "markdown",
   "metadata": {},
   "source": [
    "Which can be remedied by forcibly converting the variable to a floating\n",
    "point number."
   ]
  },
  {
   "cell_type": "code",
   "execution_count": null,
   "metadata": {},
   "outputs": [],
   "source": [
    ">>> spam=3.0\n",
    ">>> spam/2\n",
    "1.5"
   ]
  },
  {
   "cell_type": "markdown",
   "metadata": {},
   "source": [
    "Alternatively,"
   ]
  },
  {
   "cell_type": "code",
   "execution_count": null,
   "metadata": {},
   "outputs": [],
   "source": [
    ">>> spam=3\n",
    ">>> float(spam)/2\n",
    "1.5"
   ]
  },
  {
   "cell_type": "markdown",
   "metadata": {},
   "source": [
    "If you\\'re not sure what type something is, use the `type()` function to\n",
    "check.\n",
    "\n",
    "### Reference, mutability, and copying\n",
    "\n",
    "-   Have a look at this:\n",
    "\n",
    "`>>> egg = 'green'`\\\n",
    "`>>> ham = egg`\\\n",
    "`>>> ham`\\\n",
    "` 'green'`\\\n",
    "`>>> egg = 'yellow'`\\\n",
    "`>>> ham`\\\n",
    "`'green'`\n",
    "\n",
    "Easy enough. Now have a look here:\n",
    "\n",
    "`>>> egg = ['green']`\\\n",
    "`>>> ham=egg`\\\n",
    "`>>> ham`\\\n",
    "` ['green']`\\\n",
    "`>>> egg[0] = 'yellow'`\\\n",
    "`>>> ham`\\\n",
    "` ['yellow']`\n",
    "\n",
    "What do you think is happening here? That\\'s right, ham points to the\n",
    "egg list, not to the content inside. When you change the content within\n",
    "egg, you\\'ve changed ham.\n",
    "\n",
    "### Writing to a file, safely"
   ]
  },
  {
   "cell_type": "code",
   "execution_count": null,
   "metadata": {},
   "outputs": [],
   "source": [
    "import(os)\n",
    "fileHandle = open('dataFile.txt','w')\n",
    "fileHandle.write(line) #the line you are writing. Use a Tab or comma-separated string if you're writing a CSV (or TSV) file.\n",
    "fileHandle.flush() #mostly unnecessary\n",
    "os.fsync(fileHandle) #ditto; it helps if you have several processes writing to the file"
   ]
  },
  {
   "cell_type": "markdown",
   "metadata": {},
   "source": [
    "At the end of your experiment:"
   ]
  },
  {
   "cell_type": "code",
   "execution_count": null,
   "metadata": {},
   "outputs": [],
   "source": [
    "fileHandle.close()"
   ]
  },
  {
   "cell_type": "markdown",
   "metadata": {},
   "source": [
    "### Copy a file\n",
    "\n",
    "To copy a file use shutil.copyfile(src, dst). src is the path and name\n",
    "of the original file. dst is the path and name where src will be copied."
   ]
  },
  {
   "cell_type": "code",
   "execution_count": null,
   "metadata": {},
   "outputs": [],
   "source": [
    "import shutil \n",
    "shutil.copyfile(src,dst)"
   ]
  },
  {
   "cell_type": "markdown",
   "metadata": {},
   "source": [
    "Examples"
   ]
  },
  {
   "cell_type": "code",
   "execution_count": null,
   "metadata": {},
   "outputs": [],
   "source": [
    "shutil.copyfile('1.dat', '3.dat')"
   ]
  },
  {
   "cell_type": "markdown",
   "metadata": {},
   "source": [
    "This copies 1.dat into a new file named 3.dat."
   ]
  },
  {
   "cell_type": "code",
   "execution_count": null,
   "metadata": {},
   "outputs": [],
   "source": [
    "shutil.copyfile('1.dat', 'directory\\\\3.dat')"
   ]
  },
  {
   "cell_type": "markdown",
   "metadata": {},
   "source": [
    "This copies 1.dat into the specified directory as 3.dat. Notice the\n",
    "escape character before the slash.\n",
    "\n",
    "### Create a new directory"
   ]
  },
  {
   "cell_type": "code",
   "execution_count": null,
   "metadata": {},
   "outputs": [],
   "source": [
    "import os\n",
    "os.makedirs(newDirectoryName)"
   ]
  },
  {
   "cell_type": "markdown",
   "metadata": {},
   "source": [
    "### Some simple generator functions\n",
    "\n",
    "Here\\'s a function that implements an infinite list of odd numbers."
   ]
  },
  {
   "cell_type": "code",
   "execution_count": null,
   "metadata": {},
   "outputs": [],
   "source": [
    "def oddNum(start):\n",
    "    while True:\n",
    "        if start % 2 ==0:\n",
    "            start+=1\n",
    "        yield start\n",
    "        start+=1"
   ]
  },
  {
   "cell_type": "markdown",
   "metadata": {},
   "source": [
    "Here\\'s one way to use it:\\\n",
    "Get 30 odd numbers starting at 1"
   ]
  },
  {
   "cell_type": "code",
   "execution_count": null,
   "metadata": {},
   "outputs": [],
   "source": [
    "someOddNums = oddNum(1) #start it at 1\n",
    "for i in range (30):\n",
    "    print someOddNums.next()"
   ]
  },
  {
   "cell_type": "markdown",
   "metadata": {},
   "source": [
    "Here\\'s another way using list comprehension:"
   ]
  },
  {
   "cell_type": "code",
   "execution_count": null,
   "metadata": {},
   "outputs": [],
   "source": [
    "moreOddNums = oddNum(1) #start it at 1\n",
    "[moreOddNums.next() for i in range(30)]"
   ]
  },
  {
   "cell_type": "markdown",
   "metadata": {},
   "source": [
    "\\\n",
    "\\\n",
    "Here\\'s a generator function for implementing a circular list. If you\n",
    "pass in a number, it will create a list of integers of that length,\n",
    "i.e., circularList(5) will create a circular list from \\[0,1,2,3,4\\]. If\n",
    "you pass in a list, it will make a circular list out of what you pass\n",
    "in, e.g., circularList(\\[\\'a\\',\\'b\\',\\'c\\'\\]) will create a circular\n",
    "list from \\[\\'a\\',\\'b\\',\\'c\\'\\])"
   ]
  },
  {
   "cell_type": "code",
   "execution_count": null,
   "metadata": {},
   "outputs": [],
   "source": [
    "def circularList(lst):\n",
    "    if not isinstance(lst,list) and isinstance(lst,int):\n",
    "        lst = range(lst)\n",
    "    i = 0\n",
    "    while True:\n",
    "        yield lst[i]\n",
    "        i = (i + 1)%len(lst) #try this out to understand the logic"
   ]
  },
  {
   "cell_type": "markdown",
   "metadata": {},
   "source": [
    "To use it, create a new generator by assigning it to a variable:\n",
    "\n",
    "`myGenerator = circularList(lst)`\n",
    "\n",
    "where lst is the list you\\'d like to iterate through continuously.\n",
    "Notice the conditional in the first line of the circularList function.\n",
    "This allows the function to take in either a list or an integer. In the\n",
    "latter case, the function constructs a new list of that length, e.g.,\n",
    "circularList(3) will iterate through the list \\[0,1,2\\] ad infinitum:\n",
    "\n",
    "`myGenerator = circularList([0,1,2])`\\\n",
    "`myGenerator.next()`\\\n",
    "`>>>0`\\\n",
    "`myGenerator.next()`\\\n",
    "`>>>1`\\\n",
    "`myGenerator.next()`\\\n",
    "`>>>2`\\\n",
    "`myGenerator.next()`\\\n",
    "`>>>0`\\\n",
    "`...`\\\n",
    "`See what happens if you make a generator using a character string, e.g.,`\\\n",
    "`myGenerator = circularList('spam').`\n",
    "\n",
    "Here\\'s a slightly more complex version of the circularList generator.\n",
    "The basic version above iterates through the list always in the same\n",
    "order. It is more likely that you\\'ll want to iterate through it in a\n",
    "less ordered way. The variant below shuffles the list after each\n",
    "complete passthrough. Moreover, the shuffling is controlled by a seed so\n",
    "that each time you run it with the same seed, you\\'ll get the same\n",
    "sequence of randomizations."
   ]
  },
  {
   "cell_type": "code",
   "execution_count": null,
   "metadata": {},
   "outputs": [],
   "source": [
    "def randomizingCircularList(lst,seed):\n",
    "    if not isinstance(lst,list):\n",
    "        lst = range(lst)\n",
    "    i = 0\n",
    "    random.seed(seed)\n",
    "    while True:\n",
    "        yield lst[i]\n",
    "        if (i+1) % len(lst) ==0:\n",
    "            random.shuffle(lst)\n",
    "        i = (i + 1)%len(lst)\n",
    "\n",
    ">>>newCircle=randomizingCircularList(['a','b','c'],10)\n",
    "\n",
    ">>>for i in range(10):\n",
    ">>>    print newCircle.next()\n",
    "\n",
    "a\n",
    "b\n",
    "c\n",
    "c\n",
    "a\n",
    "b\n",
    "b\n",
    "c\n",
    "a\n",
    "b"
   ]
  },
  {
   "cell_type": "markdown",
   "metadata": {},
   "source": [
    "### Simple classes\n",
    "\n",
    "Here is a simple counter class:"
   ]
  },
  {
   "cell_type": "code",
   "execution_count": null,
   "metadata": {},
   "outputs": [],
   "source": [
    "class Counter:\n",
    "    \"\"\"A simple counting class\"\"\"\n",
    "    def __init__(self,start=0):\n",
    "        \"\"\"Initialize a counter to zero or start if supplied.\"\"\"\n",
    "        self.count= start\n",
    "    def __call__(self):\n",
    "        \"\"\"Return the current count.\"\"\"\n",
    "        return self.count\n",
    "    def increment(self, amount):\n",
    "        \"\"\"Increment the counter.\"\"\"\n",
    "        self.count+= amount\n",
    "    def reset(self):\n",
    "        \"\"\"Reset the counter to zero.\"\"\"\n",
    "        self.count= 0"
   ]
  },
  {
   "cell_type": "markdown",
   "metadata": {},
   "source": [
    "Here\\'s another simple class:"
   ]
  },
  {
   "cell_type": "code",
   "execution_count": null,
   "metadata": {},
   "outputs": [],
   "source": [
    "class BankAccount():\n",
    "    def __init__(self, initial_balance=0):\n",
    "        self.balance = initial_balance\n",
    "    def deposit(self, amount):\n",
    "        self.balance += amount\n",
    "    def withdraw(self, amount):\n",
    "        self.balance -= amount\n",
    "    def overdrawn(self):\n",
    "        return self.balance < 0"
   ]
  },
  {
   "cell_type": "markdown",
   "metadata": {},
   "source": [
    "Creating an instance of a BankAccount class and manipulatig the balance\n",
    "is as simple as:"
   ]
  },
  {
   "cell_type": "code",
   "execution_count": null,
   "metadata": {},
   "outputs": [],
   "source": [
    "my_account = BankAccount(15)\n",
    "my_account.withdraw(5)\n",
    "print my_account.balance"
   ]
  },
  {
   "cell_type": "markdown",
   "metadata": {},
   "source": [
    "For most experiments you\\'ll be creating, it\\'s probably not necessary\n",
    "to use object oriented programming (OOP). When might you want to use it?\n",
    "Consider a dynamic experiment such as the bouncing ball (Exercise 11).\n",
    "Suppose you want to have multiple bouncing balls at the same time? This\n",
    "is cumbersome without OOP, but becomes very simple with OOP: just create\n",
    "a bouncing ball class and then instantiate a new instance of a\n",
    "bouncingBall for each one you want to appear. Remember: each class\n",
    "instance you create (e.g., greenBall = bouncingBall(color=\\\"green\\\") ),\n",
    "is completely independent from other instances you create.\n",
    "\n",
    "[Category:QuickReference](Category:QuickReference \"wikilink\")"
   ]
  }
 ],
 "metadata": {},
 "nbformat": 4,
 "nbformat_minor": 2
}
