{
 "cells": [
  {
   "cell_type": "markdown",
   "metadata": {},
   "source": [
    "# List comprehension\n",
    "\n",
    "## The idea\n",
    "List comprehension provides a compact way to take a list, do something to the elements (modify, filter, apply a function), and then return the resulting list. See some examples [here](http://www.pythonforbeginners.com/basics/list-comprehensions-in-python)."
   ]
  },
  {
   "cell_type": "markdown",
   "metadata": {},
   "source": [
    "## The syntax\n",
    "\n",
    "List comprehension expressions are embedded in [] as a way to signal that the result is a list. For example:"
   ]
  },
  {
   "cell_type": "code",
   "execution_count": 11,
   "metadata": {},
   "outputs": [
    {
     "data": {
      "text/plain": [
       "[0, 1, 4, 9, 16, 25, 36, 49, 64, 81]"
      ]
     },
     "execution_count": 11,
     "metadata": {},
     "output_type": "execute_result"
    }
   ],
   "source": [
    "[num**2 for num in range(10)]\n"
   ]
  },
  {
   "cell_type": "markdown",
   "metadata": {},
   "source": [
    "Reading the above statement from right to left, here's what's happening:\n",
    "\n",
    "`range(10)` - generate a list\n",
    "\n",
    "`...for num in...` iterate through it using `num` as the iterator variable\n",
    "\n",
    "`num**2` the thing that you're doing to the list. Here, squaring each element.\n"
   ]
  },
  {
   "cell_type": "markdown",
   "metadata": {},
   "source": [
    "By including `if` statements inside list comprehension, you can effectively filter a list for the elements you want (or don't want)"
   ]
  },
  {
   "cell_type": "code",
   "execution_count": 12,
   "metadata": {},
   "outputs": [
    {
     "data": {
      "text/plain": [
       "[0, 4, 16, 36, 64]"
      ]
     },
     "execution_count": 12,
     "metadata": {},
     "output_type": "execute_result"
    }
   ],
   "source": [
    "[num**2 for num in range(10) if num %2 ==0]"
   ]
  },
  {
   "cell_type": "markdown",
   "metadata": {},
   "source": [
    "You can also embed multiple lists inside a list-comprehension expression. This is equivalent to nested loops, but I personally find these confusing."
   ]
  },
  {
   "cell_type": "code",
   "execution_count": 13,
   "metadata": {},
   "outputs": [
    {
     "data": {
      "text/plain": [
       "['ad', 'ae', 'af', 'bd', 'be', 'bf', 'cd', 'ce', 'cf']"
      ]
     },
     "execution_count": 13,
     "metadata": {},
     "output_type": "execute_result"
    }
   ],
   "source": [
    "[first+second for first in ['a','b','c'] for second in ['d','e','f']]"
   ]
  },
  {
   "cell_type": "markdown",
   "metadata": {},
   "source": [
    "In addition to *list* comprehension, Python also implements *dictionary* comprehension. I include an example for completeness, though I find myself using this quite rarely. The example below checks if a phrase is a pangram, "
   ]
  },
  {
   "cell_type": "code",
   "execution_count": 23,
   "metadata": {},
   "outputs": [
    {
     "name": "stdout",
     "output_type": "stream",
     "text": [
      "{'a': 1, 'count': 5, 'little': 6, 'word': 4, 'Just': 4, 'sentence': 8, 'simple': 6, 'of': 2, 'we': 2, 'one': 3, 'lengths': 7, 'can': 3, 'which': 5, 'in': 2, 'the': 3, 'line': 4}\n"
     ]
    }
   ],
   "source": [
    "sentence = \"Just a simple little sentence the word lengths of which we can count in one line\"\n",
    "wordLengths = {key: len(key) for key in sentence.split(' ')}"
   ]
  },
  {
   "cell_type": "markdown",
   "metadata": {},
   "source": [
    "## Exercises"
   ]
  },
  {
   "cell_type": "markdown",
   "metadata": {},
   "source": [
    "### Find all of the numbers from 1-1000 that are divisible by 9"
   ]
  },
  {
   "cell_type": "code",
   "execution_count": null,
   "metadata": {},
   "outputs": [],
   "source": [
    " #insert your code here"
   ]
  },
  {
   "cell_type": "markdown",
   "metadata": {},
   "source": [
    "### Generate 100 random numbers in the range 0-1 using one line of code"
   ]
  },
  {
   "cell_type": "code",
   "execution_count": null,
   "metadata": {},
   "outputs": [],
   "source": [
    "import random\n",
    "#insert your code here"
   ]
  },
  {
   "cell_type": "markdown",
   "metadata": {},
   "source": [
    "### Generate 100 random numbers in the range 1-10 using one line of code"
   ]
  },
  {
   "cell_type": "code",
   "execution_count": null,
   "metadata": {},
   "outputs": [],
   "source": [
    "import random\n",
    "#insert your code here"
   ]
  },
  {
   "cell_type": "markdown",
   "metadata": {},
   "source": [
    "### Return a list of words longer than 3 letters.\n",
    "Use list comprehension to take `sentence` and output the words containing more than 3 letters"
   ]
  },
  {
   "cell_type": "code",
   "execution_count": null,
   "metadata": {},
   "outputs": [],
   "source": [
    "sentence = 'The Quick Brown Fox Jumped Over The Lazy Dog’\n",
    "#insert your code here"
   ]
  },
  {
   "cell_type": "markdown",
   "metadata": {},
   "source": [
    "### #A list of all consonants\n",
    "Return a list containing all the consonants in `sentence`. The consonants don't have to be unique, but the list should not have both uppercas and lowercase letters. You should do this in one line of code.\n",
    "<div class=\"alert alert-block alert-info\">\n",
    "Use str.isalpha() to check for punctuation. E.g., 'word'.isalpha() returns True while '?'.isalpha() and 'a word'.isalpha() return False \n",
    "</div>"
   ]
  },
  {
   "cell_type": "code",
   "execution_count": null,
   "metadata": {},
   "outputs": [],
   "source": [
    "sentence = 'Can you figure out how many CONSONANTS are in this sentence?'\n",
    "vowels = ['a','e','i','o','u'] \n",
    "#insert your code here"
   ]
  },
  {
   "cell_type": "code",
   "execution_count": null,
   "metadata": {},
   "outputs": [],
   "source": [
    "#Use a dictionary comprehension to count the length of each word in a sentence. \n",
    "sentence = 'Use a dictionary comprehension to count the length of each word in a sentence' \n",
    "results = {word:len(word) for word in sentence.split()} \n",
    "#print(results) "
   ]
  },
  {
   "cell_type": "markdown",
   "metadata": {},
   "source": [
    "### Dictionary refresher\n",
    "Add a line to the code below to get the average word length in `sentence`"
   ]
  },
  {
   "cell_type": "code",
   "execution_count": 24,
   "metadata": {},
   "outputs": [],
   "source": [
    "sentence = \"Just a simple little sentence the word lengths of which we can count in one line\"\n",
    "wordLengths = {key: len(key) for key in sentence.split(' ')}\n",
    "#insert your code here"
   ]
  }
 ],
 "metadata": {
  "kernelspec": {
   "display_name": "Python 2",
   "language": "python",
   "name": "python2"
  },
  "language_info": {
   "codemirror_mode": {
    "name": "ipython",
    "version": 2
   },
   "file_extension": ".py",
   "mimetype": "text/x-python",
   "name": "python",
   "nbconvert_exporter": "python",
   "pygments_lexer": "ipython2",
   "version": "2.7.13"
  },
  "toc": {
   "nav_menu": {},
   "number_sections": true,
   "sideBar": true,
   "skip_h1_title": false,
   "toc_cell": false,
   "toc_position": {
    "height": "526px",
    "left": "0px",
    "right": "1061px",
    "top": "111px",
    "width": "219px"
   },
   "toc_section_display": "block",
   "toc_window_display": true
  }
 },
 "nbformat": 4,
 "nbformat_minor": 2
}
