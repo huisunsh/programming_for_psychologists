{
 "cells": [
  {
   "cell_type": "markdown",
   "metadata": {
    "toc": true
   },
   "source": [
    "<h1>Table of Contents<span class=\"tocSkip\"></span></h1>\n",
    "<div class=\"toc\" style=\"margin-top: 1em;\"><ul class=\"toc-item\"><li><span><a href=\"#Dictionary-Exercises\" data-toc-modified-id=\"Dictionary-Exercises-1\"><span class=\"toc-item-num\">1&nbsp;&nbsp;</span>Dictionary Exercises</a></span><ul class=\"toc-item\"><li><span><a href=\"#Dictionary-access\" data-toc-modified-id=\"Dictionary-access-1.1\"><span class=\"toc-item-num\">1.1&nbsp;&nbsp;</span>Dictionary access</a></span></li><li><span><a href=\"#Do-the-same-for-consonants\" data-toc-modified-id=\"Do-the-same-for-consonants-1.2\"><span class=\"toc-item-num\">1.2&nbsp;&nbsp;</span>Do the same for consonants</a></span></li><li><span><a href=\"#Letter-counts\" data-toc-modified-id=\"Letter-counts-1.3\"><span class=\"toc-item-num\">1.3&nbsp;&nbsp;</span>Letter counts</a></span><ul class=\"toc-item\"><li><span><a href=\"#Test-your-letter_counts-function\" data-toc-modified-id=\"Test-your-letter_counts-function-1.3.1\"><span class=\"toc-item-num\">1.3.1&nbsp;&nbsp;</span>Test your letter_counts function</a></span></li></ul></li><li><span><a href=\"#Given-a-string,-find-the-n-most/least-frequent-letters-in-it\" data-toc-modified-id=\"Given-a-string,-find-the-n-most/least-frequent-letters-in-it-1.4\"><span class=\"toc-item-num\">1.4&nbsp;&nbsp;</span>Given a string, find the n most/least frequent letters in it</a></span><ul class=\"toc-item\"><li><span><a href=\"#Test-most_frequent()-and-least_frequent()\" data-toc-modified-id=\"Test-most_frequent()-and-least_frequent()-1.4.1\"><span class=\"toc-item-num\">1.4.1&nbsp;&nbsp;</span>Test most_frequent() and least_frequent()</a></span></li></ul></li><li><span><a href=\"#Bonus:-Calculate-most/least-frequent-letters-in-words-beginning-with-consonants-or-vowels\" data-toc-modified-id=\"Bonus:-Calculate-most/least-frequent-letters-in-words-beginning-with-consonants-or-vowels-1.5\"><span class=\"toc-item-num\">1.5&nbsp;&nbsp;</span>Bonus: Calculate most/least frequent letters in words beginning with consonants or vowels</a></span><ul class=\"toc-item\"><li><span><a href=\"#Test-most_frequent2()-and-least_frequent()\" data-toc-modified-id=\"Test-most_frequent2()-and-least_frequent()-1.5.1\"><span class=\"toc-item-num\">1.5.1&nbsp;&nbsp;</span>Test most_frequent2() and least_frequent()</a></span></li></ul></li></ul></li></ul></div>"
   ]
  },
  {
   "cell_type": "markdown",
   "metadata": {},
   "source": [
    "# Dictionary Exercises"
   ]
  },
  {
   "cell_type": "markdown",
   "metadata": {},
   "source": [
    "## Dictionary access"
   ]
  },
  {
   "cell_type": "markdown",
   "metadata": {},
   "source": [
    "Given the following dictionary, \n",
    "\n",
    "```Python\n",
    "a_dict = \n",
    "{'--': 2,\n",
    " 'Air': 3,\n",
    " 'At': 2,\n",
    " 'Big': 3,\n",
    " 'But': 3,\n",
    " 'Figure': 6,\n",
    " 'Freestyle': 9,\n",
    " 'Olympics': 8,\n",
    " 'Pyeongchang,': 12,\n",
    " 'Skating.': 8,\n",
    " 'Skiing': 6,\n",
    " 'Snowboarding': 12,\n",
    " 'To': 2,\n",
    " 'Winter': 6,\n",
    " 'a': 1,\n",
    " 'air.': 4,\n",
    " 'and': 3,\n",
    " 'body': 4,\n",
    " 'corks': 5,\n",
    " 'do': 2,\n",
    " 'four': 4,\n",
    " 'got': 3,\n",
    " 'have': 4,\n",
    " 'in': 2,\n",
    " 'jumps': 5,\n",
    " 'less': 4,\n",
    " 'limit': 5,\n",
    " 'may': 3,\n",
    " 'of': 2,\n",
    " 'or': 2,\n",
    " 'possible?': 9,\n",
    " 'quad': 4,\n",
    " 'quad,': 5,\n",
    " 'reached': 7,\n",
    " 'second': 6,\n",
    " 'see': 3,\n",
    " \"skater's\": 8,\n",
    " 'than': 4,\n",
    " 'the': 3,\n",
    " 'their': 5,\n",
    " 'this': 4,\n",
    " 'times': 5,\n",
    " 'to': 2,\n",
    " 'turn': 4,\n",
    " 'twists': 6,\n",
    " 'we': 2,\n",
    " \"we'll\": 5,\n",
    " \"what's\": 6,\n",
    " \"year's\": 6}\n",
    "```\n",
    "\n",
    "find the mean value of the keys that begin with a vowel. Here's some code to help get you started:"
   ]
  },
  {
   "cell_type": "code",
   "execution_count": 25,
   "metadata": {},
   "outputs": [
    {
     "name": "stdout",
     "output_type": "stream",
     "text": [
      "4.5\n"
     ]
    }
   ],
   "source": [
    "import numpy as np\n",
    "\n",
    "def isVowel(letter):\n",
    "    return letter in ['a','e','i','o','u']\n",
    "\n",
    "def isVowelOnset(string):\n",
    "    return isVowel(string[0])\n",
    "\n",
    "#to find a mean of a list, use the mean() function from the numpy library\n",
    "print np.mean(range(10))\n",
    "#it is commonly imported as np so that you can type np.mean() instead of numpy.mean()"
   ]
  },
  {
   "cell_type": "markdown",
   "metadata": {},
   "source": [
    "<div class=\"alert alert-block alert-info\">\n",
    "Note that by taking advantage of statements that already return True/False values, the code above avoids having to write constructions like: if X return True, else return Y.\n",
    "</div>"
   ]
  },
  {
   "cell_type": "markdown",
   "metadata": {},
   "source": [
    "## Do the same for consonants\n",
    "<div class=\"alert alert-block alert-info\">\n",
    "Hint: You don't need to write separate isConsonant/isConsonantOnset functions!</div>\n"
   ]
  },
  {
   "cell_type": "markdown",
   "metadata": {},
   "source": [
    "## Letter counts\n",
    "\n",
    "Complete the implementation of the function. `letter_counts()` receives a string as input and returns a dictionary with (lowercase) letters as keys and their respective counts as values."
   ]
  },
  {
   "cell_type": "code",
   "execution_count": 23,
   "metadata": {},
   "outputs": [],
   "source": [
    "def letter_counts(string):\n",
    "    letter_sums = {}\n",
    "    letters = [letter for letter in string.lower() if c.isalpha()]\n",
    "    for curLetter in letters:\n",
    "        pass\n",
    "    \n",
    "    return letter_sums\n",
    "\n",
    "#Replace pass with appropriate code to make the function work. You only need a couple lines of code."
   ]
  },
  {
   "cell_type": "markdown",
   "metadata": {},
   "source": [
    "### Test your letter_counts function"
   ]
  },
  {
   "cell_type": "code",
   "execution_count": null,
   "metadata": {},
   "outputs": [],
   "source": [
    "letter_counts(\"Complete the implementation of the function. `letter_counts()` receives a string as input and returns a dictionary with (lowercase) letters and their respective counts. The keys are the letters and the counts are how many times a given letter occurred.\")\n",
    "```\n",
    "{'a': 12, 'c': 10, 'e': 32, 'd': 4, 'g': 1, 'f': 1, 'i': 12, 'h': 7, 'k': 0, 'm': 4, 'l': 6, 'o': 10, 'n': 15, 'p': 3, 's': 12, 'r': 15, 'u': 6, 't': 27, 'w': 2, 'v': 2, 'y': 2}\n",
    "```"
   ]
  },
  {
   "cell_type": "markdown",
   "metadata": {},
   "source": [
    "## Given a string, find the n most/least frequent letters in it"
   ]
  },
  {
   "cell_type": "code",
   "execution_count": 119,
   "metadata": {},
   "outputs": [],
   "source": [
    "\n",
    "def most_frequent(string,n):\n",
    "    pass\n",
    "\n",
    "def least_frequent(string,n):\n",
    "    pass"
   ]
  },
  {
   "cell_type": "markdown",
   "metadata": {},
   "source": [
    "### Test most_frequent() and least_frequent() "
   ]
  },
  {
   "cell_type": "code",
   "execution_count": 124,
   "metadata": {},
   "outputs": [
    {
     "data": {
      "text/plain": [
       "[('j', 0), ('v', 0), ('f', 3)]"
      ]
     },
     "execution_count": 124,
     "metadata": {},
     "output_type": "execute_result"
    }
   ],
   "source": [
    "a_string = \"At this year's Winter Olympics in Pyeongchang, we may see quad corks in Big Air Snowboarding or in Freestyle Skiing -- and we'll see quad twists and quad jumps in Figure Skating. But have we reached the limit of what's possible? To do a quad, a skater's got less than a second to turn their body four times in the air.\"\n",
    "\n",
    ">most_frequent(a_string,3)\n",
    "#should return [('e', 24), ('a', 21), ('i', 21)]\n",
    "\n",
    ">least_frequent(a_string,4)\n",
    "# should return [('j', 0), ('v', 0), ('f', 3)]"
   ]
  },
  {
   "cell_type": "markdown",
   "metadata": {},
   "source": [
    "## Bonus: Calculate most/least frequent letters in words beginning with consonants or vowels"
   ]
  },
  {
   "cell_type": "markdown",
   "metadata": {},
   "source": [
    "Implement `most_frequent2()` which makes the following function-called produce the desired results:\n",
    "\n",
    "```Python\n",
    "def most_frequent2(string,n):\n",
    "''' Given a string, return the n most frequent letters occurring in words beginning with vowels.\n",
    "'''\n",
    "    pass\n",
    "\n",
    "def least_frequent2(string,n):\n",
    "''' Given a string, return the n least frequent letters occurring in words beginning with vowels\n",
    "'''\n",
    "    pass\n",
    "```\n"
   ]
  },
  {
   "cell_type": "markdown",
   "metadata": {},
   "source": [
    "### Test most_frequent2() and least_frequent2()"
   ]
  },
  {
   "cell_type": "code",
   "execution_count": 120,
   "metadata": {},
   "outputs": [
    {
     "ename": "NameError",
     "evalue": "name 'most_frequent2' is not defined",
     "output_type": "error",
     "traceback": [
      "\u001b[0;31m---------------------------------------------------------------------------\u001b[0m",
      "\u001b[0;31mNameError\u001b[0m                                 Traceback (most recent call last)",
      "\u001b[0;32m<ipython-input-120-224aa3d1e354>\u001b[0m in \u001b[0;36m<module>\u001b[0;34m()\u001b[0m\n\u001b[1;32m      1\u001b[0m \u001b[0ma_string\u001b[0m \u001b[0;34m=\u001b[0m \u001b[0;34m\"At this year's Winter Olympics in Pyeongchang, we may see quad corks in Big Air Snowboarding or in Freestyle Skiing -- and we'll see quad twists and quad jumps in Figure Skating. But have we reached the limit of what's possible? To do a quad, a skater's got less than a second to turn their body four times in the air.\"\u001b[0m\u001b[0;34m\u001b[0m\u001b[0m\n\u001b[1;32m      2\u001b[0m \u001b[0;34m\u001b[0m\u001b[0m\n\u001b[0;32m----> 3\u001b[0;31m \u001b[0mmost_frequent2\u001b[0m\u001b[0;34m(\u001b[0m\u001b[0mletter_counts\u001b[0m\u001b[0;34m(\u001b[0m\u001b[0mstring\u001b[0m\u001b[0;34m)\u001b[0m\u001b[0;34m,\u001b[0m\u001b[0;36m3\u001b[0m\u001b[0;34m,\u001b[0m\u001b[0;34m'vowel'\u001b[0m\u001b[0;34m)\u001b[0m\u001b[0;34m\u001b[0m\u001b[0m\n\u001b[0m\u001b[1;32m      4\u001b[0m \u001b[0mmost_frequent2\u001b[0m\u001b[0;34m(\u001b[0m\u001b[0mletter_counts\u001b[0m\u001b[0;34m(\u001b[0m\u001b[0mstring\u001b[0m\u001b[0;34m)\u001b[0m\u001b[0;34m,\u001b[0m\u001b[0;36m3\u001b[0m\u001b[0;34m,\u001b[0m\u001b[0;34m'consonant'\u001b[0m\u001b[0;34m)\u001b[0m\u001b[0;34m\u001b[0m\u001b[0m\n\u001b[1;32m      5\u001b[0m \u001b[0mleast_frequent2\u001b[0m\u001b[0;34m(\u001b[0m\u001b[0mletter_counts\u001b[0m\u001b[0;34m(\u001b[0m\u001b[0mstring\u001b[0m\u001b[0;34m)\u001b[0m\u001b[0;34m,\u001b[0m\u001b[0;36m3\u001b[0m\u001b[0;34m,\u001b[0m\u001b[0;34m'vowel'\u001b[0m\u001b[0;34m)\u001b[0m\u001b[0;34m\u001b[0m\u001b[0m\n",
      "\u001b[0;31mNameError\u001b[0m: name 'most_frequent2' is not defined"
     ]
    }
   ],
   "source": [
    "a_string = \"At this year's Winter Olympics in Pyeongchang, we may see quad corks in Big Air Snowboarding or in Freestyle Skiing -- and we'll see quad twists and quad jumps in Figure Skating. But have we reached the limit of what's possible? To do a quad, a skater's got less than a second to turn their body four times in the air.\"\n",
    "\n",
    "most_frequent2(a_string,3)\n",
    "#should return [('n', 6), ('a', 5), ('i', 5)]\n",
    "\n",
    "least_frequent2(a_string,3)\n",
    "#should return [('f', 0), ('d', 1), ('o', 1)]"
   ]
  }
 ],
 "metadata": {
  "kernelspec": {
   "display_name": "Python 2",
   "language": "python",
   "name": "python2"
  },
  "language_info": {
   "codemirror_mode": {
    "name": "ipython",
    "version": 2
   },
   "file_extension": ".py",
   "mimetype": "text/x-python",
   "name": "python",
   "nbconvert_exporter": "python",
   "pygments_lexer": "ipython2",
   "version": "2.7.13"
  },
  "toc": {
   "nav_menu": {},
   "number_sections": true,
   "sideBar": true,
   "skip_h1_title": false,
   "toc_cell": true,
   "toc_position": {
    "height": "570px",
    "left": "0px",
    "right": "1041px",
    "top": "111px",
    "width": "239px"
   },
   "toc_section_display": "block",
   "toc_window_display": true
  }
 },
 "nbformat": 4,
 "nbformat_minor": 2
}
